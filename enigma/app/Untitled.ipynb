{
 "cells": [
  {
   "cell_type": "code",
   "execution_count": 1,
   "id": "206936d7-d363-4f08-a59b-ae016329ed5a",
   "metadata": {},
   "outputs": [],
   "source": [
    "from cryptography.fernet import Fernet"
   ]
  },
  {
   "cell_type": "code",
   "execution_count": 2,
   "id": "72777eda-3a05-4f71-b0f4-88230459edf2",
   "metadata": {},
   "outputs": [
    {
     "data": {
      "text/plain": [
       "b'iSXmj2Xt3gVMIGTlKrYVLmWtynrbo6VchUdyFdWAclc='"
      ]
     },
     "execution_count": 2,
     "metadata": {},
     "output_type": "execute_result"
    }
   ],
   "source": [
    "Fernet.generate_key()"
   ]
  },
  {
   "cell_type": "code",
   "execution_count": null,
   "id": "94578982-6161-43ca-9ece-833822883925",
   "metadata": {},
   "outputs": [],
   "source": []
  }
 ],
 "metadata": {
  "kernelspec": {
   "display_name": "Python 3 (ipykernel)",
   "language": "python",
   "name": "python3"
  },
  "language_info": {
   "codemirror_mode": {
    "name": "ipython",
    "version": 3
   },
   "file_extension": ".py",
   "mimetype": "text/x-python",
   "name": "python",
   "nbconvert_exporter": "python",
   "pygments_lexer": "ipython3",
   "version": "3.11.3"
  }
 },
 "nbformat": 4,
 "nbformat_minor": 5
}
