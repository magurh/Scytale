{
 "cells": [
  {
   "cell_type": "code",
   "execution_count": null,
   "id": "b7a154ab-d79c-4a82-9927-3e3f6211bd26",
   "metadata": {},
   "outputs": [],
   "source": []
  },
  {
   "cell_type": "code",
   "execution_count": 1,
   "id": "93da5e3a-6958-4652-b6e8-2fcacdc80442",
   "metadata": {},
   "outputs": [],
   "source": [
    "from cryptography.fernet import Fernet"
   ]
  },
  {
   "cell_type": "code",
   "execution_count": 2,
   "id": "86db857d-976f-4c0f-8f43-20014785b0af",
   "metadata": {},
   "outputs": [],
   "source": [
    "def generate_key():\n",
    "    \"\"\"\n",
    "    Generate a random key using Fernet's generate_key.\n",
    "    \"\"\"\n",
    "    return Fernet.generate_key()\n",
    "\n",
    "def encrypt_message(\n",
    "    message: str, \n",
    "    key: str\n",
    ") -> str:\n",
    "    \"\"\"\n",
    "    Given a message and a (Secret) key, encrypt the message using symmetryc key cryptography.\n",
    "    \"\"\"\n",
    "    fernet = Fernet(key)\n",
    "    encrypted_message = fernet.encrypt(message.encode())\n",
    "    return encrypted_message\n",
    "\n",
    "def decrypt_message(\n",
    "    encrypted_message: str,\n",
    "    key: str\n",
    ") -> str:\n",
    "    \"\"\"\n",
    "    Given a message and a (secret) key, decrypt the message using symmetryc key cryptography.\n",
    "    \"\"\"\n",
    "    fernet = Fernet(key)\n",
    "    decrypted_message = fernet.decrypt(encrypted_message).decode()\n",
    "    return decrypted_message\n",
    "\n",
    "\n"
   ]
  },
  {
   "cell_type": "code",
   "execution_count": 6,
   "id": "7893b996-1980-4909-9d15-f64dd8b4bfe1",
   "metadata": {},
   "outputs": [],
   "source": [
    "message = 'salut'\n",
    "\n",
    "key = generate_key()"
   ]
  },
  {
   "cell_type": "code",
   "execution_count": 11,
   "id": "cdbc9576-7eaf-4a1a-811e-f922f1c38b29",
   "metadata": {},
   "outputs": [],
   "source": [
    "key = b'7LyvOWdEAgLNlREn_WISAl_zP6kRA2RYwczRj6nRwbY='"
   ]
  },
  {
   "cell_type": "code",
   "execution_count": 14,
   "id": "a34ecabe-9914-4d44-bf7c-b0ef21e70640",
   "metadata": {},
   "outputs": [
    {
     "data": {
      "text/plain": [
       "b'gAAAAABmkVLOCQ3GNWKsmZHqzizQSp4E7oF9x1cFQsC5_yAX_9qXFxlPvTLWt5z3Kw6AumJODhEjD8BHkEH_zDnJ9i8x32nJ1A=='"
      ]
     },
     "execution_count": 14,
     "metadata": {},
     "output_type": "execute_result"
    }
   ],
   "source": [
    "encrypted_message = encrypt_message(message, key)\n",
    "encrypted_message"
   ]
  },
  {
   "cell_type": "code",
   "execution_count": 15,
   "id": "19f38be4-e2de-4747-a385-85d5d96b130a",
   "metadata": {},
   "outputs": [
    {
     "data": {
      "text/plain": [
       "'salut'"
      ]
     },
     "execution_count": 15,
     "metadata": {},
     "output_type": "execute_result"
    }
   ],
   "source": [
    "decrypt_message(encrypted_message, key)"
   ]
  },
  {
   "cell_type": "code",
   "execution_count": null,
   "id": "bcddd846-4d2a-44b7-a219-741679e7c5ce",
   "metadata": {},
   "outputs": [],
   "source": []
  }
 ],
 "metadata": {
  "kernelspec": {
   "display_name": "Python 3 (ipykernel)",
   "language": "python",
   "name": "python3"
  },
  "language_info": {
   "codemirror_mode": {
    "name": "ipython",
    "version": 3
   },
   "file_extension": ".py",
   "mimetype": "text/x-python",
   "name": "python",
   "nbconvert_exporter": "python",
   "pygments_lexer": "ipython3",
   "version": "3.11.3"
  }
 },
 "nbformat": 4,
 "nbformat_minor": 5
}
